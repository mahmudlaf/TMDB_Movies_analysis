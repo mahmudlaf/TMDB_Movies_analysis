{
 "cells": [
  {
   "cell_type": "markdown",
   "id": "b39e313f",
   "metadata": {},
   "source": [
    "# Project 1: Investigate TMVB Movie Dataset - [tmdb-movies]\n",
    "\n",
    "## Table of Contents\n",
    "<ul>\n",
    "<li><a href=\"#intro\">Introduction</a></li>\n",
    "<li><a href=\"#wrangling\">Data Wrangling</a></li>\n",
    "<li><a href=\"#eda\">Exploratory Data Analysis</a></li>\n",
    "<li><a href=\"#conclusions\">Conclusions</a></li>\n",
    "</ul>"
   ]
  },
  {
   "cell_type": "markdown",
   "id": "de7495ba",
   "metadata": {},
   "source": [
    "<a id='intro'></a>\n",
    "## Introduction\n",
    "\n",
    "### Dataset Description \n",
    "\n",
    "> This dataset (TMDb_movie_data) contains information about 10,000 movies collected from The Movie Database. It contains 10866 rows and 21 columns with information about movies, including original title, popularity, budget, revenue, user ratings, director, production company etc. \n",
    "\n",
    "\n",
    "### Question(s) for Analysis\n",
    ">The following questions are important for analyzing the dataset.\n",
    ">1. What are the most popular movies?\n",
    ">2. What are the properties associated with the popular movies\n",
    ">3. Do runtime has effect on the profit of movies?\n",
    ">3. Which genres are most popular?\n",
    ">4. Which of the directors is the most popular?\n",
    ">5. What are the factors associated with popularity of director?\n",
    ">6. Does popularity of movies correlate to the popularity of directors?"
   ]
  },
  {
   "cell_type": "code",
   "execution_count": 465,
   "id": "8cfa667e",
   "metadata": {},
   "outputs": [],
   "source": [
    "import pandas as pd\n",
    "import numpy as np\n",
    "import matplotlib.pyplot as plt\n",
    "import seaborn as sns\n",
    "%matplotlib inline"
   ]
  },
  {
   "cell_type": "markdown",
   "id": "e9a70b8b",
   "metadata": {},
   "source": [
    "<a id='wrangling'></a>\n",
    "## Data Wrangling\n",
    "\n",
    "\n",
    "### General Properties\n",
    "> Here, we are going to carry out some checks on the the dataset and then clean it up for analysis purpose.\n",
    ">We are going to carry out the following:\n",
    ">1. Check information and description of the dataset.\n",
    ">2. Check for missing values.\n",
    ">3. Check for duplicates.\n",
    ">4. Drop some columns that are not required for our analysis.\n",
    ">5. Create new column(s) to explore our dataset."
   ]
  },
  {
   "cell_type": "code",
   "execution_count": 466,
   "id": "d9ab11ba",
   "metadata": {
    "scrolled": true
   },
   "outputs": [
    {
     "data": {
      "text/html": [
       "<div>\n",
       "<style scoped>\n",
       "    .dataframe tbody tr th:only-of-type {\n",
       "        vertical-align: middle;\n",
       "    }\n",
       "\n",
       "    .dataframe tbody tr th {\n",
       "        vertical-align: top;\n",
       "    }\n",
       "\n",
       "    .dataframe thead th {\n",
       "        text-align: right;\n",
       "    }\n",
       "</style>\n",
       "<table border=\"1\" class=\"dataframe\">\n",
       "  <thead>\n",
       "    <tr style=\"text-align: right;\">\n",
       "      <th></th>\n",
       "      <th>id</th>\n",
       "      <th>imdb_id</th>\n",
       "      <th>popularity</th>\n",
       "      <th>budget</th>\n",
       "      <th>revenue</th>\n",
       "      <th>original_title</th>\n",
       "      <th>cast</th>\n",
       "      <th>homepage</th>\n",
       "      <th>director</th>\n",
       "      <th>tagline</th>\n",
       "      <th>...</th>\n",
       "      <th>overview</th>\n",
       "      <th>runtime</th>\n",
       "      <th>genres</th>\n",
       "      <th>production_companies</th>\n",
       "      <th>release_date</th>\n",
       "      <th>vote_count</th>\n",
       "      <th>vote_average</th>\n",
       "      <th>release_year</th>\n",
       "      <th>budget_adj</th>\n",
       "      <th>revenue_adj</th>\n",
       "    </tr>\n",
       "  </thead>\n",
       "  <tbody>\n",
       "    <tr>\n",
       "      <th>0</th>\n",
       "      <td>135397</td>\n",
       "      <td>tt0369610</td>\n",
       "      <td>32.985763</td>\n",
       "      <td>150000000</td>\n",
       "      <td>1513528810</td>\n",
       "      <td>Jurassic World</td>\n",
       "      <td>Chris Pratt|Bryce Dallas Howard|Irrfan Khan|Vi...</td>\n",
       "      <td>http://www.jurassicworld.com/</td>\n",
       "      <td>Colin Trevorrow</td>\n",
       "      <td>The park is open.</td>\n",
       "      <td>...</td>\n",
       "      <td>Twenty-two years after the events of Jurassic ...</td>\n",
       "      <td>124</td>\n",
       "      <td>Action|Adventure|Science Fiction|Thriller</td>\n",
       "      <td>Universal Studios|Amblin Entertainment|Legenda...</td>\n",
       "      <td>6/9/15</td>\n",
       "      <td>5562</td>\n",
       "      <td>6.5</td>\n",
       "      <td>2015</td>\n",
       "      <td>1.379999e+08</td>\n",
       "      <td>1.392446e+09</td>\n",
       "    </tr>\n",
       "    <tr>\n",
       "      <th>1</th>\n",
       "      <td>76341</td>\n",
       "      <td>tt1392190</td>\n",
       "      <td>28.419936</td>\n",
       "      <td>150000000</td>\n",
       "      <td>378436354</td>\n",
       "      <td>Mad Max: Fury Road</td>\n",
       "      <td>Tom Hardy|Charlize Theron|Hugh Keays-Byrne|Nic...</td>\n",
       "      <td>http://www.madmaxmovie.com/</td>\n",
       "      <td>George Miller</td>\n",
       "      <td>What a Lovely Day.</td>\n",
       "      <td>...</td>\n",
       "      <td>An apocalyptic story set in the furthest reach...</td>\n",
       "      <td>120</td>\n",
       "      <td>Action|Adventure|Science Fiction|Thriller</td>\n",
       "      <td>Village Roadshow Pictures|Kennedy Miller Produ...</td>\n",
       "      <td>5/13/15</td>\n",
       "      <td>6185</td>\n",
       "      <td>7.1</td>\n",
       "      <td>2015</td>\n",
       "      <td>1.379999e+08</td>\n",
       "      <td>3.481613e+08</td>\n",
       "    </tr>\n",
       "    <tr>\n",
       "      <th>2</th>\n",
       "      <td>262500</td>\n",
       "      <td>tt2908446</td>\n",
       "      <td>13.112507</td>\n",
       "      <td>110000000</td>\n",
       "      <td>295238201</td>\n",
       "      <td>Insurgent</td>\n",
       "      <td>Shailene Woodley|Theo James|Kate Winslet|Ansel...</td>\n",
       "      <td>http://www.thedivergentseries.movie/#insurgent</td>\n",
       "      <td>Robert Schwentke</td>\n",
       "      <td>One Choice Can Destroy You</td>\n",
       "      <td>...</td>\n",
       "      <td>Beatrice Prior must confront her inner demons ...</td>\n",
       "      <td>119</td>\n",
       "      <td>Adventure|Science Fiction|Thriller</td>\n",
       "      <td>Summit Entertainment|Mandeville Films|Red Wago...</td>\n",
       "      <td>3/18/15</td>\n",
       "      <td>2480</td>\n",
       "      <td>6.3</td>\n",
       "      <td>2015</td>\n",
       "      <td>1.012000e+08</td>\n",
       "      <td>2.716190e+08</td>\n",
       "    </tr>\n",
       "    <tr>\n",
       "      <th>3</th>\n",
       "      <td>140607</td>\n",
       "      <td>tt2488496</td>\n",
       "      <td>11.173104</td>\n",
       "      <td>200000000</td>\n",
       "      <td>2068178225</td>\n",
       "      <td>Star Wars: The Force Awakens</td>\n",
       "      <td>Harrison Ford|Mark Hamill|Carrie Fisher|Adam D...</td>\n",
       "      <td>http://www.starwars.com/films/star-wars-episod...</td>\n",
       "      <td>J.J. Abrams</td>\n",
       "      <td>Every generation has a story.</td>\n",
       "      <td>...</td>\n",
       "      <td>Thirty years after defeating the Galactic Empi...</td>\n",
       "      <td>136</td>\n",
       "      <td>Action|Adventure|Science Fiction|Fantasy</td>\n",
       "      <td>Lucasfilm|Truenorth Productions|Bad Robot</td>\n",
       "      <td>12/15/15</td>\n",
       "      <td>5292</td>\n",
       "      <td>7.5</td>\n",
       "      <td>2015</td>\n",
       "      <td>1.839999e+08</td>\n",
       "      <td>1.902723e+09</td>\n",
       "    </tr>\n",
       "    <tr>\n",
       "      <th>4</th>\n",
       "      <td>168259</td>\n",
       "      <td>tt2820852</td>\n",
       "      <td>9.335014</td>\n",
       "      <td>190000000</td>\n",
       "      <td>1506249360</td>\n",
       "      <td>Furious 7</td>\n",
       "      <td>Vin Diesel|Paul Walker|Jason Statham|Michelle ...</td>\n",
       "      <td>http://www.furious7.com/</td>\n",
       "      <td>James Wan</td>\n",
       "      <td>Vengeance Hits Home</td>\n",
       "      <td>...</td>\n",
       "      <td>Deckard Shaw seeks revenge against Dominic Tor...</td>\n",
       "      <td>137</td>\n",
       "      <td>Action|Crime|Thriller</td>\n",
       "      <td>Universal Pictures|Original Film|Media Rights ...</td>\n",
       "      <td>4/1/15</td>\n",
       "      <td>2947</td>\n",
       "      <td>7.3</td>\n",
       "      <td>2015</td>\n",
       "      <td>1.747999e+08</td>\n",
       "      <td>1.385749e+09</td>\n",
       "    </tr>\n",
       "  </tbody>\n",
       "</table>\n",
       "<p>5 rows × 21 columns</p>\n",
       "</div>"
      ],
      "text/plain": [
       "       id    imdb_id  popularity     budget     revenue  \\\n",
       "0  135397  tt0369610   32.985763  150000000  1513528810   \n",
       "1   76341  tt1392190   28.419936  150000000   378436354   \n",
       "2  262500  tt2908446   13.112507  110000000   295238201   \n",
       "3  140607  tt2488496   11.173104  200000000  2068178225   \n",
       "4  168259  tt2820852    9.335014  190000000  1506249360   \n",
       "\n",
       "                 original_title  \\\n",
       "0                Jurassic World   \n",
       "1            Mad Max: Fury Road   \n",
       "2                     Insurgent   \n",
       "3  Star Wars: The Force Awakens   \n",
       "4                     Furious 7   \n",
       "\n",
       "                                                cast  \\\n",
       "0  Chris Pratt|Bryce Dallas Howard|Irrfan Khan|Vi...   \n",
       "1  Tom Hardy|Charlize Theron|Hugh Keays-Byrne|Nic...   \n",
       "2  Shailene Woodley|Theo James|Kate Winslet|Ansel...   \n",
       "3  Harrison Ford|Mark Hamill|Carrie Fisher|Adam D...   \n",
       "4  Vin Diesel|Paul Walker|Jason Statham|Michelle ...   \n",
       "\n",
       "                                            homepage          director  \\\n",
       "0                      http://www.jurassicworld.com/   Colin Trevorrow   \n",
       "1                        http://www.madmaxmovie.com/     George Miller   \n",
       "2     http://www.thedivergentseries.movie/#insurgent  Robert Schwentke   \n",
       "3  http://www.starwars.com/films/star-wars-episod...       J.J. Abrams   \n",
       "4                           http://www.furious7.com/         James Wan   \n",
       "\n",
       "                         tagline  ...  \\\n",
       "0              The park is open.  ...   \n",
       "1             What a Lovely Day.  ...   \n",
       "2     One Choice Can Destroy You  ...   \n",
       "3  Every generation has a story.  ...   \n",
       "4            Vengeance Hits Home  ...   \n",
       "\n",
       "                                            overview runtime  \\\n",
       "0  Twenty-two years after the events of Jurassic ...     124   \n",
       "1  An apocalyptic story set in the furthest reach...     120   \n",
       "2  Beatrice Prior must confront her inner demons ...     119   \n",
       "3  Thirty years after defeating the Galactic Empi...     136   \n",
       "4  Deckard Shaw seeks revenge against Dominic Tor...     137   \n",
       "\n",
       "                                      genres  \\\n",
       "0  Action|Adventure|Science Fiction|Thriller   \n",
       "1  Action|Adventure|Science Fiction|Thriller   \n",
       "2         Adventure|Science Fiction|Thriller   \n",
       "3   Action|Adventure|Science Fiction|Fantasy   \n",
       "4                      Action|Crime|Thriller   \n",
       "\n",
       "                                production_companies release_date vote_count  \\\n",
       "0  Universal Studios|Amblin Entertainment|Legenda...       6/9/15       5562   \n",
       "1  Village Roadshow Pictures|Kennedy Miller Produ...      5/13/15       6185   \n",
       "2  Summit Entertainment|Mandeville Films|Red Wago...      3/18/15       2480   \n",
       "3          Lucasfilm|Truenorth Productions|Bad Robot     12/15/15       5292   \n",
       "4  Universal Pictures|Original Film|Media Rights ...       4/1/15       2947   \n",
       "\n",
       "   vote_average  release_year    budget_adj   revenue_adj  \n",
       "0           6.5          2015  1.379999e+08  1.392446e+09  \n",
       "1           7.1          2015  1.379999e+08  3.481613e+08  \n",
       "2           6.3          2015  1.012000e+08  2.716190e+08  \n",
       "3           7.5          2015  1.839999e+08  1.902723e+09  \n",
       "4           7.3          2015  1.747999e+08  1.385749e+09  \n",
       "\n",
       "[5 rows x 21 columns]"
      ]
     },
     "execution_count": 466,
     "metadata": {},
     "output_type": "execute_result"
    }
   ],
   "source": [
    "# Load the csv file and read the first five rows of the file\n",
    "df = pd.read_csv('tmdb-movies.csv')\n",
    "df.head()"
   ]
  },
  {
   "cell_type": "markdown",
   "id": "a417e70f",
   "metadata": {},
   "source": [
    ">Some columns like cast, genres and production companies have saveral items in each cell. We may have to split them."
   ]
  },
  {
   "cell_type": "code",
   "execution_count": 467,
   "id": "6c15d6b7",
   "metadata": {
    "scrolled": true
   },
   "outputs": [
    {
     "name": "stdout",
     "output_type": "stream",
     "text": [
      "<class 'pandas.core.frame.DataFrame'>\n",
      "RangeIndex: 10866 entries, 0 to 10865\n",
      "Data columns (total 21 columns):\n",
      " #   Column                Non-Null Count  Dtype  \n",
      "---  ------                --------------  -----  \n",
      " 0   id                    10866 non-null  int64  \n",
      " 1   imdb_id               10856 non-null  object \n",
      " 2   popularity            10866 non-null  float64\n",
      " 3   budget                10866 non-null  int64  \n",
      " 4   revenue               10866 non-null  int64  \n",
      " 5   original_title        10866 non-null  object \n",
      " 6   cast                  10790 non-null  object \n",
      " 7   homepage              2936 non-null   object \n",
      " 8   director              10822 non-null  object \n",
      " 9   tagline               8042 non-null   object \n",
      " 10  keywords              9373 non-null   object \n",
      " 11  overview              10862 non-null  object \n",
      " 12  runtime               10866 non-null  int64  \n",
      " 13  genres                10843 non-null  object \n",
      " 14  production_companies  9836 non-null   object \n",
      " 15  release_date          10866 non-null  object \n",
      " 16  vote_count            10866 non-null  int64  \n",
      " 17  vote_average          10866 non-null  float64\n",
      " 18  release_year          10866 non-null  int64  \n",
      " 19  budget_adj            10866 non-null  float64\n",
      " 20  revenue_adj           10866 non-null  float64\n",
      "dtypes: float64(4), int64(6), object(11)\n",
      "memory usage: 1.7+ MB\n"
     ]
    }
   ],
   "source": [
    "# Check for a concise summary of the dataframe\n",
    "df.info()"
   ]
  },
  {
   "cell_type": "markdown",
   "id": "194811f8",
   "metadata": {},
   "source": [
    ">There are 21 columns in the dataset. The data types are int, float and object."
   ]
  },
  {
   "cell_type": "code",
   "execution_count": 468,
   "id": "d6545bed",
   "metadata": {
    "scrolled": false
   },
   "outputs": [
    {
     "data": {
      "text/html": [
       "<div>\n",
       "<style scoped>\n",
       "    .dataframe tbody tr th:only-of-type {\n",
       "        vertical-align: middle;\n",
       "    }\n",
       "\n",
       "    .dataframe tbody tr th {\n",
       "        vertical-align: top;\n",
       "    }\n",
       "\n",
       "    .dataframe thead th {\n",
       "        text-align: right;\n",
       "    }\n",
       "</style>\n",
       "<table border=\"1\" class=\"dataframe\">\n",
       "  <thead>\n",
       "    <tr style=\"text-align: right;\">\n",
       "      <th></th>\n",
       "      <th>id</th>\n",
       "      <th>popularity</th>\n",
       "      <th>budget</th>\n",
       "      <th>revenue</th>\n",
       "      <th>runtime</th>\n",
       "      <th>vote_count</th>\n",
       "      <th>vote_average</th>\n",
       "      <th>release_year</th>\n",
       "      <th>budget_adj</th>\n",
       "      <th>revenue_adj</th>\n",
       "    </tr>\n",
       "  </thead>\n",
       "  <tbody>\n",
       "    <tr>\n",
       "      <th>count</th>\n",
       "      <td>10866.000000</td>\n",
       "      <td>10866.000000</td>\n",
       "      <td>1.086600e+04</td>\n",
       "      <td>1.086600e+04</td>\n",
       "      <td>10866.000000</td>\n",
       "      <td>10866.000000</td>\n",
       "      <td>10866.000000</td>\n",
       "      <td>10866.000000</td>\n",
       "      <td>1.086600e+04</td>\n",
       "      <td>1.086600e+04</td>\n",
       "    </tr>\n",
       "    <tr>\n",
       "      <th>mean</th>\n",
       "      <td>66064.177434</td>\n",
       "      <td>0.646441</td>\n",
       "      <td>1.462570e+07</td>\n",
       "      <td>3.982332e+07</td>\n",
       "      <td>102.070863</td>\n",
       "      <td>217.389748</td>\n",
       "      <td>5.974922</td>\n",
       "      <td>2001.322658</td>\n",
       "      <td>1.755104e+07</td>\n",
       "      <td>5.136436e+07</td>\n",
       "    </tr>\n",
       "    <tr>\n",
       "      <th>std</th>\n",
       "      <td>92130.136561</td>\n",
       "      <td>1.000185</td>\n",
       "      <td>3.091321e+07</td>\n",
       "      <td>1.170035e+08</td>\n",
       "      <td>31.381405</td>\n",
       "      <td>575.619058</td>\n",
       "      <td>0.935142</td>\n",
       "      <td>12.812941</td>\n",
       "      <td>3.430616e+07</td>\n",
       "      <td>1.446325e+08</td>\n",
       "    </tr>\n",
       "    <tr>\n",
       "      <th>min</th>\n",
       "      <td>5.000000</td>\n",
       "      <td>0.000065</td>\n",
       "      <td>0.000000e+00</td>\n",
       "      <td>0.000000e+00</td>\n",
       "      <td>0.000000</td>\n",
       "      <td>10.000000</td>\n",
       "      <td>1.500000</td>\n",
       "      <td>1960.000000</td>\n",
       "      <td>0.000000e+00</td>\n",
       "      <td>0.000000e+00</td>\n",
       "    </tr>\n",
       "    <tr>\n",
       "      <th>25%</th>\n",
       "      <td>10596.250000</td>\n",
       "      <td>0.207583</td>\n",
       "      <td>0.000000e+00</td>\n",
       "      <td>0.000000e+00</td>\n",
       "      <td>90.000000</td>\n",
       "      <td>17.000000</td>\n",
       "      <td>5.400000</td>\n",
       "      <td>1995.000000</td>\n",
       "      <td>0.000000e+00</td>\n",
       "      <td>0.000000e+00</td>\n",
       "    </tr>\n",
       "    <tr>\n",
       "      <th>50%</th>\n",
       "      <td>20669.000000</td>\n",
       "      <td>0.383856</td>\n",
       "      <td>0.000000e+00</td>\n",
       "      <td>0.000000e+00</td>\n",
       "      <td>99.000000</td>\n",
       "      <td>38.000000</td>\n",
       "      <td>6.000000</td>\n",
       "      <td>2006.000000</td>\n",
       "      <td>0.000000e+00</td>\n",
       "      <td>0.000000e+00</td>\n",
       "    </tr>\n",
       "    <tr>\n",
       "      <th>75%</th>\n",
       "      <td>75610.000000</td>\n",
       "      <td>0.713817</td>\n",
       "      <td>1.500000e+07</td>\n",
       "      <td>2.400000e+07</td>\n",
       "      <td>111.000000</td>\n",
       "      <td>145.750000</td>\n",
       "      <td>6.600000</td>\n",
       "      <td>2011.000000</td>\n",
       "      <td>2.085325e+07</td>\n",
       "      <td>3.369710e+07</td>\n",
       "    </tr>\n",
       "    <tr>\n",
       "      <th>max</th>\n",
       "      <td>417859.000000</td>\n",
       "      <td>32.985763</td>\n",
       "      <td>4.250000e+08</td>\n",
       "      <td>2.781506e+09</td>\n",
       "      <td>900.000000</td>\n",
       "      <td>9767.000000</td>\n",
       "      <td>9.200000</td>\n",
       "      <td>2015.000000</td>\n",
       "      <td>4.250000e+08</td>\n",
       "      <td>2.827124e+09</td>\n",
       "    </tr>\n",
       "  </tbody>\n",
       "</table>\n",
       "</div>"
      ],
      "text/plain": [
       "                  id    popularity        budget       revenue       runtime  \\\n",
       "count   10866.000000  10866.000000  1.086600e+04  1.086600e+04  10866.000000   \n",
       "mean    66064.177434      0.646441  1.462570e+07  3.982332e+07    102.070863   \n",
       "std     92130.136561      1.000185  3.091321e+07  1.170035e+08     31.381405   \n",
       "min         5.000000      0.000065  0.000000e+00  0.000000e+00      0.000000   \n",
       "25%     10596.250000      0.207583  0.000000e+00  0.000000e+00     90.000000   \n",
       "50%     20669.000000      0.383856  0.000000e+00  0.000000e+00     99.000000   \n",
       "75%     75610.000000      0.713817  1.500000e+07  2.400000e+07    111.000000   \n",
       "max    417859.000000     32.985763  4.250000e+08  2.781506e+09    900.000000   \n",
       "\n",
       "         vote_count  vote_average  release_year    budget_adj   revenue_adj  \n",
       "count  10866.000000  10866.000000  10866.000000  1.086600e+04  1.086600e+04  \n",
       "mean     217.389748      5.974922   2001.322658  1.755104e+07  5.136436e+07  \n",
       "std      575.619058      0.935142     12.812941  3.430616e+07  1.446325e+08  \n",
       "min       10.000000      1.500000   1960.000000  0.000000e+00  0.000000e+00  \n",
       "25%       17.000000      5.400000   1995.000000  0.000000e+00  0.000000e+00  \n",
       "50%       38.000000      6.000000   2006.000000  0.000000e+00  0.000000e+00  \n",
       "75%      145.750000      6.600000   2011.000000  2.085325e+07  3.369710e+07  \n",
       "max     9767.000000      9.200000   2015.000000  4.250000e+08  2.827124e+09  "
      ]
     },
     "execution_count": 468,
     "metadata": {},
     "output_type": "execute_result"
    }
   ],
   "source": [
    "# Check for useful descriptive statistics for each column of dataset\n",
    "df.describe()"
   ]
  },
  {
   "cell_type": "code",
   "execution_count": 469,
   "id": "e7323f0d",
   "metadata": {},
   "outputs": [
    {
     "name": "stdout",
     "output_type": "stream",
     "text": [
      "0 id\n",
      "1 imdb_id\n",
      "2 popularity\n",
      "3 budget\n",
      "4 revenue\n",
      "5 original_title\n",
      "6 cast\n",
      "7 homepage\n",
      "8 director\n",
      "9 tagline\n",
      "10 keywords\n",
      "11 overview\n",
      "12 runtime\n",
      "13 genres\n",
      "14 production_companies\n",
      "15 release_date\n",
      "16 vote_count\n",
      "17 vote_average\n",
      "18 release_year\n",
      "19 budget_adj\n",
      "20 revenue_adj\n"
     ]
    }
   ],
   "source": [
    "# Checking for the various columns and their corresponding index\n",
    "for i, v in enumerate(df.columns):\n",
    "    print(i, v)"
   ]
  },
  {
   "cell_type": "markdown",
   "id": "a0de5cf9",
   "metadata": {},
   "source": [
    ">From the 21 available columns, cast, homepage, tagline, keywords, production_companies and imdb_id have null values."
   ]
  },
  {
   "cell_type": "markdown",
   "id": "a8804b79",
   "metadata": {},
   "source": [
    "### Data Cleaning\n",
    "> We will drop some columns with null values. This is due to the fact that they are not required to answer the analysis questions listed in the introductory part.\n",
    ">We are also going to convert the datatype of release date to datetime.\n",
    " "
   ]
  },
  {
   "cell_type": "code",
   "execution_count": 470,
   "id": "ca856532",
   "metadata": {},
   "outputs": [],
   "source": [
    "# Drop columns that will not be used for this analysis\n",
    "df.drop(['cast', 'homepage', 'tagline', 'keywords', 'overview', 'imdb_id'], axis =1, inplace =True)"
   ]
  },
  {
   "cell_type": "code",
   "execution_count": 471,
   "id": "5036f25e",
   "metadata": {},
   "outputs": [],
   "source": [
    "# Replacing the year part with the `release_year` column and converting datatype\n",
    "df.release_date = df.apply(lambda x: x.release_date[:-2] + str(x.release_year), axis=1)\n",
    "\n",
    "df.release_date = pd.to_datetime(df.release_date)"
   ]
  },
  {
   "cell_type": "code",
   "execution_count": 472,
   "id": "de13b469",
   "metadata": {},
   "outputs": [
    {
     "data": {
      "text/html": [
       "<div>\n",
       "<style scoped>\n",
       "    .dataframe tbody tr th:only-of-type {\n",
       "        vertical-align: middle;\n",
       "    }\n",
       "\n",
       "    .dataframe tbody tr th {\n",
       "        vertical-align: top;\n",
       "    }\n",
       "\n",
       "    .dataframe thead th {\n",
       "        text-align: right;\n",
       "    }\n",
       "</style>\n",
       "<table border=\"1\" class=\"dataframe\">\n",
       "  <thead>\n",
       "    <tr style=\"text-align: right;\">\n",
       "      <th></th>\n",
       "      <th>id</th>\n",
       "      <th>popularity</th>\n",
       "      <th>budget</th>\n",
       "      <th>revenue</th>\n",
       "      <th>original_title</th>\n",
       "      <th>director</th>\n",
       "      <th>runtime</th>\n",
       "      <th>genres</th>\n",
       "      <th>production_companies</th>\n",
       "      <th>release_date</th>\n",
       "      <th>vote_count</th>\n",
       "      <th>vote_average</th>\n",
       "      <th>release_year</th>\n",
       "      <th>budget_adj</th>\n",
       "      <th>revenue_adj</th>\n",
       "    </tr>\n",
       "  </thead>\n",
       "  <tbody>\n",
       "    <tr>\n",
       "      <th>0</th>\n",
       "      <td>135397</td>\n",
       "      <td>32.985763</td>\n",
       "      <td>150000000</td>\n",
       "      <td>1513528810</td>\n",
       "      <td>Jurassic World</td>\n",
       "      <td>Colin Trevorrow</td>\n",
       "      <td>124</td>\n",
       "      <td>Action|Adventure|Science Fiction|Thriller</td>\n",
       "      <td>Universal Studios|Amblin Entertainment|Legenda...</td>\n",
       "      <td>2015-06-09</td>\n",
       "      <td>5562</td>\n",
       "      <td>6.5</td>\n",
       "      <td>2015</td>\n",
       "      <td>1.379999e+08</td>\n",
       "      <td>1.392446e+09</td>\n",
       "    </tr>\n",
       "    <tr>\n",
       "      <th>1</th>\n",
       "      <td>76341</td>\n",
       "      <td>28.419936</td>\n",
       "      <td>150000000</td>\n",
       "      <td>378436354</td>\n",
       "      <td>Mad Max: Fury Road</td>\n",
       "      <td>George Miller</td>\n",
       "      <td>120</td>\n",
       "      <td>Action|Adventure|Science Fiction|Thriller</td>\n",
       "      <td>Village Roadshow Pictures|Kennedy Miller Produ...</td>\n",
       "      <td>2015-05-13</td>\n",
       "      <td>6185</td>\n",
       "      <td>7.1</td>\n",
       "      <td>2015</td>\n",
       "      <td>1.379999e+08</td>\n",
       "      <td>3.481613e+08</td>\n",
       "    </tr>\n",
       "    <tr>\n",
       "      <th>2</th>\n",
       "      <td>262500</td>\n",
       "      <td>13.112507</td>\n",
       "      <td>110000000</td>\n",
       "      <td>295238201</td>\n",
       "      <td>Insurgent</td>\n",
       "      <td>Robert Schwentke</td>\n",
       "      <td>119</td>\n",
       "      <td>Adventure|Science Fiction|Thriller</td>\n",
       "      <td>Summit Entertainment|Mandeville Films|Red Wago...</td>\n",
       "      <td>2015-03-18</td>\n",
       "      <td>2480</td>\n",
       "      <td>6.3</td>\n",
       "      <td>2015</td>\n",
       "      <td>1.012000e+08</td>\n",
       "      <td>2.716190e+08</td>\n",
       "    </tr>\n",
       "    <tr>\n",
       "      <th>3</th>\n",
       "      <td>140607</td>\n",
       "      <td>11.173104</td>\n",
       "      <td>200000000</td>\n",
       "      <td>2068178225</td>\n",
       "      <td>Star Wars: The Force Awakens</td>\n",
       "      <td>J.J. Abrams</td>\n",
       "      <td>136</td>\n",
       "      <td>Action|Adventure|Science Fiction|Fantasy</td>\n",
       "      <td>Lucasfilm|Truenorth Productions|Bad Robot</td>\n",
       "      <td>2015-12-15</td>\n",
       "      <td>5292</td>\n",
       "      <td>7.5</td>\n",
       "      <td>2015</td>\n",
       "      <td>1.839999e+08</td>\n",
       "      <td>1.902723e+09</td>\n",
       "    </tr>\n",
       "    <tr>\n",
       "      <th>4</th>\n",
       "      <td>168259</td>\n",
       "      <td>9.335014</td>\n",
       "      <td>190000000</td>\n",
       "      <td>1506249360</td>\n",
       "      <td>Furious 7</td>\n",
       "      <td>James Wan</td>\n",
       "      <td>137</td>\n",
       "      <td>Action|Crime|Thriller</td>\n",
       "      <td>Universal Pictures|Original Film|Media Rights ...</td>\n",
       "      <td>2015-04-01</td>\n",
       "      <td>2947</td>\n",
       "      <td>7.3</td>\n",
       "      <td>2015</td>\n",
       "      <td>1.747999e+08</td>\n",
       "      <td>1.385749e+09</td>\n",
       "    </tr>\n",
       "  </tbody>\n",
       "</table>\n",
       "</div>"
      ],
      "text/plain": [
       "       id  popularity     budget     revenue                original_title  \\\n",
       "0  135397   32.985763  150000000  1513528810                Jurassic World   \n",
       "1   76341   28.419936  150000000   378436354            Mad Max: Fury Road   \n",
       "2  262500   13.112507  110000000   295238201                     Insurgent   \n",
       "3  140607   11.173104  200000000  2068178225  Star Wars: The Force Awakens   \n",
       "4  168259    9.335014  190000000  1506249360                     Furious 7   \n",
       "\n",
       "           director  runtime                                     genres  \\\n",
       "0   Colin Trevorrow      124  Action|Adventure|Science Fiction|Thriller   \n",
       "1     George Miller      120  Action|Adventure|Science Fiction|Thriller   \n",
       "2  Robert Schwentke      119         Adventure|Science Fiction|Thriller   \n",
       "3       J.J. Abrams      136   Action|Adventure|Science Fiction|Fantasy   \n",
       "4         James Wan      137                      Action|Crime|Thriller   \n",
       "\n",
       "                                production_companies release_date  vote_count  \\\n",
       "0  Universal Studios|Amblin Entertainment|Legenda...   2015-06-09        5562   \n",
       "1  Village Roadshow Pictures|Kennedy Miller Produ...   2015-05-13        6185   \n",
       "2  Summit Entertainment|Mandeville Films|Red Wago...   2015-03-18        2480   \n",
       "3          Lucasfilm|Truenorth Productions|Bad Robot   2015-12-15        5292   \n",
       "4  Universal Pictures|Original Film|Media Rights ...   2015-04-01        2947   \n",
       "\n",
       "   vote_average  release_year    budget_adj   revenue_adj  \n",
       "0           6.5          2015  1.379999e+08  1.392446e+09  \n",
       "1           7.1          2015  1.379999e+08  3.481613e+08  \n",
       "2           6.3          2015  1.012000e+08  2.716190e+08  \n",
       "3           7.5          2015  1.839999e+08  1.902723e+09  \n",
       "4           7.3          2015  1.747999e+08  1.385749e+09  "
      ]
     },
     "execution_count": 472,
     "metadata": {},
     "output_type": "execute_result"
    }
   ],
   "source": [
    "#Check to confirm dropped columns\n",
    "df.head()"
   ]
  },
  {
   "cell_type": "code",
   "execution_count": 473,
   "id": "30c2714b",
   "metadata": {},
   "outputs": [
    {
     "data": {
      "text/plain": [
       "id                         0\n",
       "popularity                 0\n",
       "budget                     0\n",
       "revenue                    0\n",
       "original_title             0\n",
       "director                  44\n",
       "runtime                    0\n",
       "genres                    23\n",
       "production_companies    1030\n",
       "release_date               0\n",
       "vote_count                 0\n",
       "vote_average               0\n",
       "release_year               0\n",
       "budget_adj                 0\n",
       "revenue_adj                0\n",
       "dtype: int64"
      ]
     },
     "execution_count": 473,
     "metadata": {},
     "output_type": "execute_result"
    }
   ],
   "source": [
    "# Check for missing values\n",
    "df.isna().sum()"
   ]
  },
  {
   "cell_type": "code",
   "execution_count": 474,
   "id": "ee96d510",
   "metadata": {},
   "outputs": [
    {
     "name": "stdout",
     "output_type": "stream",
     "text": [
      "<class 'pandas.core.frame.DataFrame'>\n",
      "Int64Index: 9807 entries, 0 to 10865\n",
      "Data columns (total 15 columns):\n",
      " #   Column                Non-Null Count  Dtype         \n",
      "---  ------                --------------  -----         \n",
      " 0   id                    9807 non-null   int64         \n",
      " 1   popularity            9807 non-null   float64       \n",
      " 2   budget                9807 non-null   int64         \n",
      " 3   revenue               9807 non-null   int64         \n",
      " 4   original_title        9807 non-null   object        \n",
      " 5   director              9807 non-null   object        \n",
      " 6   runtime               9807 non-null   int64         \n",
      " 7   genres                9807 non-null   object        \n",
      " 8   production_companies  9807 non-null   object        \n",
      " 9   release_date          9807 non-null   datetime64[ns]\n",
      " 10  vote_count            9807 non-null   int64         \n",
      " 11  vote_average          9807 non-null   float64       \n",
      " 12  release_year          9807 non-null   int64         \n",
      " 13  budget_adj            9807 non-null   float64       \n",
      " 14  revenue_adj           9807 non-null   float64       \n",
      "dtypes: datetime64[ns](1), float64(4), int64(6), object(4)\n",
      "memory usage: 1.2+ MB\n"
     ]
    }
   ],
   "source": [
    "#Drop the missing values in Directors, Genres and production_companies\n",
    "df.dropna(axis=0, inplace=True)\n",
    "df.info()"
   ]
  },
  {
   "cell_type": "code",
   "execution_count": 475,
   "id": "72cb76a6",
   "metadata": {},
   "outputs": [
    {
     "data": {
      "text/plain": [
       "0"
      ]
     },
     "execution_count": 475,
     "metadata": {},
     "output_type": "execute_result"
    }
   ],
   "source": [
    "# Drop duplicate values in the dataset\n",
    "df.drop_duplicates(inplace=True)\n",
    "df.duplicated().sum()"
   ]
  },
  {
   "cell_type": "code",
   "execution_count": 476,
   "id": "cb4b2546",
   "metadata": {},
   "outputs": [],
   "source": [
    "# Split genres column into various types\n",
    "df['genres'] = df['genres'].str.split('[ |]')\n",
    "df = df.explode('genres').reset_index(drop=True)"
   ]
  },
  {
   "cell_type": "code",
   "execution_count": 477,
   "id": "bd5ed693",
   "metadata": {
    "scrolled": true
   },
   "outputs": [
    {
     "data": {
      "text/html": [
       "<div>\n",
       "<style scoped>\n",
       "    .dataframe tbody tr th:only-of-type {\n",
       "        vertical-align: middle;\n",
       "    }\n",
       "\n",
       "    .dataframe tbody tr th {\n",
       "        vertical-align: top;\n",
       "    }\n",
       "\n",
       "    .dataframe thead th {\n",
       "        text-align: right;\n",
       "    }\n",
       "</style>\n",
       "<table border=\"1\" class=\"dataframe\">\n",
       "  <thead>\n",
       "    <tr style=\"text-align: right;\">\n",
       "      <th></th>\n",
       "      <th>id</th>\n",
       "      <th>popularity</th>\n",
       "      <th>budget</th>\n",
       "      <th>revenue</th>\n",
       "      <th>original_title</th>\n",
       "      <th>director</th>\n",
       "      <th>runtime</th>\n",
       "      <th>genres</th>\n",
       "      <th>production_companies</th>\n",
       "      <th>release_date</th>\n",
       "      <th>vote_count</th>\n",
       "      <th>vote_average</th>\n",
       "      <th>release_year</th>\n",
       "      <th>budget_adj</th>\n",
       "      <th>revenue_adj</th>\n",
       "    </tr>\n",
       "  </thead>\n",
       "  <tbody>\n",
       "    <tr>\n",
       "      <th>0</th>\n",
       "      <td>135397</td>\n",
       "      <td>32.985763</td>\n",
       "      <td>150000000</td>\n",
       "      <td>1513528810</td>\n",
       "      <td>Jurassic World</td>\n",
       "      <td>Colin Trevorrow</td>\n",
       "      <td>124</td>\n",
       "      <td>Action</td>\n",
       "      <td>Universal Studios|Amblin Entertainment|Legenda...</td>\n",
       "      <td>2015-06-09</td>\n",
       "      <td>5562</td>\n",
       "      <td>6.5</td>\n",
       "      <td>2015</td>\n",
       "      <td>1.379999e+08</td>\n",
       "      <td>1.392446e+09</td>\n",
       "    </tr>\n",
       "    <tr>\n",
       "      <th>1</th>\n",
       "      <td>135397</td>\n",
       "      <td>32.985763</td>\n",
       "      <td>150000000</td>\n",
       "      <td>1513528810</td>\n",
       "      <td>Jurassic World</td>\n",
       "      <td>Colin Trevorrow</td>\n",
       "      <td>124</td>\n",
       "      <td>Adventure</td>\n",
       "      <td>Universal Studios|Amblin Entertainment|Legenda...</td>\n",
       "      <td>2015-06-09</td>\n",
       "      <td>5562</td>\n",
       "      <td>6.5</td>\n",
       "      <td>2015</td>\n",
       "      <td>1.379999e+08</td>\n",
       "      <td>1.392446e+09</td>\n",
       "    </tr>\n",
       "    <tr>\n",
       "      <th>2</th>\n",
       "      <td>135397</td>\n",
       "      <td>32.985763</td>\n",
       "      <td>150000000</td>\n",
       "      <td>1513528810</td>\n",
       "      <td>Jurassic World</td>\n",
       "      <td>Colin Trevorrow</td>\n",
       "      <td>124</td>\n",
       "      <td>Science</td>\n",
       "      <td>Universal Studios|Amblin Entertainment|Legenda...</td>\n",
       "      <td>2015-06-09</td>\n",
       "      <td>5562</td>\n",
       "      <td>6.5</td>\n",
       "      <td>2015</td>\n",
       "      <td>1.379999e+08</td>\n",
       "      <td>1.392446e+09</td>\n",
       "    </tr>\n",
       "    <tr>\n",
       "      <th>3</th>\n",
       "      <td>135397</td>\n",
       "      <td>32.985763</td>\n",
       "      <td>150000000</td>\n",
       "      <td>1513528810</td>\n",
       "      <td>Jurassic World</td>\n",
       "      <td>Colin Trevorrow</td>\n",
       "      <td>124</td>\n",
       "      <td>Fiction</td>\n",
       "      <td>Universal Studios|Amblin Entertainment|Legenda...</td>\n",
       "      <td>2015-06-09</td>\n",
       "      <td>5562</td>\n",
       "      <td>6.5</td>\n",
       "      <td>2015</td>\n",
       "      <td>1.379999e+08</td>\n",
       "      <td>1.392446e+09</td>\n",
       "    </tr>\n",
       "    <tr>\n",
       "      <th>4</th>\n",
       "      <td>135397</td>\n",
       "      <td>32.985763</td>\n",
       "      <td>150000000</td>\n",
       "      <td>1513528810</td>\n",
       "      <td>Jurassic World</td>\n",
       "      <td>Colin Trevorrow</td>\n",
       "      <td>124</td>\n",
       "      <td>Thriller</td>\n",
       "      <td>Universal Studios|Amblin Entertainment|Legenda...</td>\n",
       "      <td>2015-06-09</td>\n",
       "      <td>5562</td>\n",
       "      <td>6.5</td>\n",
       "      <td>2015</td>\n",
       "      <td>1.379999e+08</td>\n",
       "      <td>1.392446e+09</td>\n",
       "    </tr>\n",
       "  </tbody>\n",
       "</table>\n",
       "</div>"
      ],
      "text/plain": [
       "       id  popularity     budget     revenue  original_title         director  \\\n",
       "0  135397   32.985763  150000000  1513528810  Jurassic World  Colin Trevorrow   \n",
       "1  135397   32.985763  150000000  1513528810  Jurassic World  Colin Trevorrow   \n",
       "2  135397   32.985763  150000000  1513528810  Jurassic World  Colin Trevorrow   \n",
       "3  135397   32.985763  150000000  1513528810  Jurassic World  Colin Trevorrow   \n",
       "4  135397   32.985763  150000000  1513528810  Jurassic World  Colin Trevorrow   \n",
       "\n",
       "   runtime     genres                               production_companies  \\\n",
       "0      124     Action  Universal Studios|Amblin Entertainment|Legenda...   \n",
       "1      124  Adventure  Universal Studios|Amblin Entertainment|Legenda...   \n",
       "2      124    Science  Universal Studios|Amblin Entertainment|Legenda...   \n",
       "3      124    Fiction  Universal Studios|Amblin Entertainment|Legenda...   \n",
       "4      124   Thriller  Universal Studios|Amblin Entertainment|Legenda...   \n",
       "\n",
       "  release_date  vote_count  vote_average  release_year    budget_adj  \\\n",
       "0   2015-06-09        5562           6.5          2015  1.379999e+08   \n",
       "1   2015-06-09        5562           6.5          2015  1.379999e+08   \n",
       "2   2015-06-09        5562           6.5          2015  1.379999e+08   \n",
       "3   2015-06-09        5562           6.5          2015  1.379999e+08   \n",
       "4   2015-06-09        5562           6.5          2015  1.379999e+08   \n",
       "\n",
       "    revenue_adj  \n",
       "0  1.392446e+09  \n",
       "1  1.392446e+09  \n",
       "2  1.392446e+09  \n",
       "3  1.392446e+09  \n",
       "4  1.392446e+09  "
      ]
     },
     "execution_count": 477,
     "metadata": {},
     "output_type": "execute_result"
    }
   ],
   "source": [
    "# Check to confirm the splitting of genres\n",
    "df.head()"
   ]
  },
  {
   "cell_type": "code",
   "execution_count": 478,
   "id": "946c1f03",
   "metadata": {},
   "outputs": [],
   "source": [
    "# Split production companies column into various types\n",
    "df['production_companies'] = df['production_companies'].str.split('[ |]')\n",
    "df = df.explode('production_companies').reset_index(drop=True)"
   ]
  },
  {
   "cell_type": "code",
   "execution_count": 479,
   "id": "25006cb9",
   "metadata": {},
   "outputs": [
    {
     "data": {
      "text/html": [
       "<div>\n",
       "<style scoped>\n",
       "    .dataframe tbody tr th:only-of-type {\n",
       "        vertical-align: middle;\n",
       "    }\n",
       "\n",
       "    .dataframe tbody tr th {\n",
       "        vertical-align: top;\n",
       "    }\n",
       "\n",
       "    .dataframe thead th {\n",
       "        text-align: right;\n",
       "    }\n",
       "</style>\n",
       "<table border=\"1\" class=\"dataframe\">\n",
       "  <thead>\n",
       "    <tr style=\"text-align: right;\">\n",
       "      <th></th>\n",
       "      <th>id</th>\n",
       "      <th>popularity</th>\n",
       "      <th>budget</th>\n",
       "      <th>revenue</th>\n",
       "      <th>original_title</th>\n",
       "      <th>director</th>\n",
       "      <th>runtime</th>\n",
       "      <th>genres</th>\n",
       "      <th>production_companies</th>\n",
       "      <th>release_date</th>\n",
       "      <th>vote_count</th>\n",
       "      <th>vote_average</th>\n",
       "      <th>release_year</th>\n",
       "      <th>budget_adj</th>\n",
       "      <th>revenue_adj</th>\n",
       "    </tr>\n",
       "  </thead>\n",
       "  <tbody>\n",
       "    <tr>\n",
       "      <th>0</th>\n",
       "      <td>135397</td>\n",
       "      <td>32.985763</td>\n",
       "      <td>150000000</td>\n",
       "      <td>1513528810</td>\n",
       "      <td>Jurassic World</td>\n",
       "      <td>Colin Trevorrow</td>\n",
       "      <td>124</td>\n",
       "      <td>Action</td>\n",
       "      <td>Universal</td>\n",
       "      <td>2015-06-09</td>\n",
       "      <td>5562</td>\n",
       "      <td>6.5</td>\n",
       "      <td>2015</td>\n",
       "      <td>1.379999e+08</td>\n",
       "      <td>1.392446e+09</td>\n",
       "    </tr>\n",
       "    <tr>\n",
       "      <th>1</th>\n",
       "      <td>135397</td>\n",
       "      <td>32.985763</td>\n",
       "      <td>150000000</td>\n",
       "      <td>1513528810</td>\n",
       "      <td>Jurassic World</td>\n",
       "      <td>Colin Trevorrow</td>\n",
       "      <td>124</td>\n",
       "      <td>Action</td>\n",
       "      <td>Studios</td>\n",
       "      <td>2015-06-09</td>\n",
       "      <td>5562</td>\n",
       "      <td>6.5</td>\n",
       "      <td>2015</td>\n",
       "      <td>1.379999e+08</td>\n",
       "      <td>1.392446e+09</td>\n",
       "    </tr>\n",
       "    <tr>\n",
       "      <th>2</th>\n",
       "      <td>135397</td>\n",
       "      <td>32.985763</td>\n",
       "      <td>150000000</td>\n",
       "      <td>1513528810</td>\n",
       "      <td>Jurassic World</td>\n",
       "      <td>Colin Trevorrow</td>\n",
       "      <td>124</td>\n",
       "      <td>Action</td>\n",
       "      <td>Amblin</td>\n",
       "      <td>2015-06-09</td>\n",
       "      <td>5562</td>\n",
       "      <td>6.5</td>\n",
       "      <td>2015</td>\n",
       "      <td>1.379999e+08</td>\n",
       "      <td>1.392446e+09</td>\n",
       "    </tr>\n",
       "    <tr>\n",
       "      <th>3</th>\n",
       "      <td>135397</td>\n",
       "      <td>32.985763</td>\n",
       "      <td>150000000</td>\n",
       "      <td>1513528810</td>\n",
       "      <td>Jurassic World</td>\n",
       "      <td>Colin Trevorrow</td>\n",
       "      <td>124</td>\n",
       "      <td>Action</td>\n",
       "      <td>Entertainment</td>\n",
       "      <td>2015-06-09</td>\n",
       "      <td>5562</td>\n",
       "      <td>6.5</td>\n",
       "      <td>2015</td>\n",
       "      <td>1.379999e+08</td>\n",
       "      <td>1.392446e+09</td>\n",
       "    </tr>\n",
       "    <tr>\n",
       "      <th>4</th>\n",
       "      <td>135397</td>\n",
       "      <td>32.985763</td>\n",
       "      <td>150000000</td>\n",
       "      <td>1513528810</td>\n",
       "      <td>Jurassic World</td>\n",
       "      <td>Colin Trevorrow</td>\n",
       "      <td>124</td>\n",
       "      <td>Action</td>\n",
       "      <td>Legendary</td>\n",
       "      <td>2015-06-09</td>\n",
       "      <td>5562</td>\n",
       "      <td>6.5</td>\n",
       "      <td>2015</td>\n",
       "      <td>1.379999e+08</td>\n",
       "      <td>1.392446e+09</td>\n",
       "    </tr>\n",
       "  </tbody>\n",
       "</table>\n",
       "</div>"
      ],
      "text/plain": [
       "       id  popularity     budget     revenue  original_title         director  \\\n",
       "0  135397   32.985763  150000000  1513528810  Jurassic World  Colin Trevorrow   \n",
       "1  135397   32.985763  150000000  1513528810  Jurassic World  Colin Trevorrow   \n",
       "2  135397   32.985763  150000000  1513528810  Jurassic World  Colin Trevorrow   \n",
       "3  135397   32.985763  150000000  1513528810  Jurassic World  Colin Trevorrow   \n",
       "4  135397   32.985763  150000000  1513528810  Jurassic World  Colin Trevorrow   \n",
       "\n",
       "   runtime  genres production_companies release_date  vote_count  \\\n",
       "0      124  Action            Universal   2015-06-09        5562   \n",
       "1      124  Action              Studios   2015-06-09        5562   \n",
       "2      124  Action               Amblin   2015-06-09        5562   \n",
       "3      124  Action        Entertainment   2015-06-09        5562   \n",
       "4      124  Action            Legendary   2015-06-09        5562   \n",
       "\n",
       "   vote_average  release_year    budget_adj   revenue_adj  \n",
       "0           6.5          2015  1.379999e+08  1.392446e+09  \n",
       "1           6.5          2015  1.379999e+08  1.392446e+09  \n",
       "2           6.5          2015  1.379999e+08  1.392446e+09  \n",
       "3           6.5          2015  1.379999e+08  1.392446e+09  \n",
       "4           6.5          2015  1.379999e+08  1.392446e+09  "
      ]
     },
     "execution_count": 479,
     "metadata": {},
     "output_type": "execute_result"
    }
   ],
   "source": [
    "# Check to confirm the splitting of genres\n",
    "df.head()"
   ]
  },
  {
   "cell_type": "code",
   "execution_count": 480,
   "id": "616f0b8e",
   "metadata": {},
   "outputs": [
    {
     "data": {
      "text/plain": [
       "budget     60321\n",
       "revenue    67069\n",
       "runtime      133\n",
       "dtype: int64"
      ]
     },
     "execution_count": 480,
     "metadata": {},
     "output_type": "execute_result"
    }
   ],
   "source": [
    "# Check for the number of zeros\n",
    "df[['budget', 'revenue', 'runtime']].apply(lambda x: x == 0).sum()"
   ]
  },
  {
   "cell_type": "code",
   "execution_count": 481,
   "id": "8f9aa2fe",
   "metadata": {
    "scrolled": true
   },
   "outputs": [
    {
     "data": {
      "text/html": [
       "<div>\n",
       "<style scoped>\n",
       "    .dataframe tbody tr th:only-of-type {\n",
       "        vertical-align: middle;\n",
       "    }\n",
       "\n",
       "    .dataframe tbody tr th {\n",
       "        vertical-align: top;\n",
       "    }\n",
       "\n",
       "    .dataframe thead th {\n",
       "        text-align: right;\n",
       "    }\n",
       "</style>\n",
       "<table border=\"1\" class=\"dataframe\">\n",
       "  <thead>\n",
       "    <tr style=\"text-align: right;\">\n",
       "      <th></th>\n",
       "      <th>id</th>\n",
       "      <th>popularity</th>\n",
       "      <th>budget</th>\n",
       "      <th>revenue</th>\n",
       "      <th>original_title</th>\n",
       "      <th>director</th>\n",
       "      <th>runtime</th>\n",
       "      <th>genres</th>\n",
       "      <th>production_companies</th>\n",
       "      <th>release_date</th>\n",
       "      <th>vote_count</th>\n",
       "      <th>vote_average</th>\n",
       "      <th>release_year</th>\n",
       "      <th>budget_adj</th>\n",
       "      <th>revenue_adj</th>\n",
       "      <th>profit</th>\n",
       "    </tr>\n",
       "  </thead>\n",
       "  <tbody>\n",
       "    <tr>\n",
       "      <th>0</th>\n",
       "      <td>135397</td>\n",
       "      <td>32.985763</td>\n",
       "      <td>150000000</td>\n",
       "      <td>1513528810</td>\n",
       "      <td>Jurassic World</td>\n",
       "      <td>Colin Trevorrow</td>\n",
       "      <td>124</td>\n",
       "      <td>Action</td>\n",
       "      <td>Universal</td>\n",
       "      <td>2015-06-09</td>\n",
       "      <td>5562</td>\n",
       "      <td>6.5</td>\n",
       "      <td>2015</td>\n",
       "      <td>1.379999e+08</td>\n",
       "      <td>1.392446e+09</td>\n",
       "      <td>1363528810</td>\n",
       "    </tr>\n",
       "    <tr>\n",
       "      <th>1</th>\n",
       "      <td>135397</td>\n",
       "      <td>32.985763</td>\n",
       "      <td>150000000</td>\n",
       "      <td>1513528810</td>\n",
       "      <td>Jurassic World</td>\n",
       "      <td>Colin Trevorrow</td>\n",
       "      <td>124</td>\n",
       "      <td>Action</td>\n",
       "      <td>Studios</td>\n",
       "      <td>2015-06-09</td>\n",
       "      <td>5562</td>\n",
       "      <td>6.5</td>\n",
       "      <td>2015</td>\n",
       "      <td>1.379999e+08</td>\n",
       "      <td>1.392446e+09</td>\n",
       "      <td>1363528810</td>\n",
       "    </tr>\n",
       "    <tr>\n",
       "      <th>2</th>\n",
       "      <td>135397</td>\n",
       "      <td>32.985763</td>\n",
       "      <td>150000000</td>\n",
       "      <td>1513528810</td>\n",
       "      <td>Jurassic World</td>\n",
       "      <td>Colin Trevorrow</td>\n",
       "      <td>124</td>\n",
       "      <td>Action</td>\n",
       "      <td>Amblin</td>\n",
       "      <td>2015-06-09</td>\n",
       "      <td>5562</td>\n",
       "      <td>6.5</td>\n",
       "      <td>2015</td>\n",
       "      <td>1.379999e+08</td>\n",
       "      <td>1.392446e+09</td>\n",
       "      <td>1363528810</td>\n",
       "    </tr>\n",
       "    <tr>\n",
       "      <th>3</th>\n",
       "      <td>135397</td>\n",
       "      <td>32.985763</td>\n",
       "      <td>150000000</td>\n",
       "      <td>1513528810</td>\n",
       "      <td>Jurassic World</td>\n",
       "      <td>Colin Trevorrow</td>\n",
       "      <td>124</td>\n",
       "      <td>Action</td>\n",
       "      <td>Entertainment</td>\n",
       "      <td>2015-06-09</td>\n",
       "      <td>5562</td>\n",
       "      <td>6.5</td>\n",
       "      <td>2015</td>\n",
       "      <td>1.379999e+08</td>\n",
       "      <td>1.392446e+09</td>\n",
       "      <td>1363528810</td>\n",
       "    </tr>\n",
       "    <tr>\n",
       "      <th>4</th>\n",
       "      <td>135397</td>\n",
       "      <td>32.985763</td>\n",
       "      <td>150000000</td>\n",
       "      <td>1513528810</td>\n",
       "      <td>Jurassic World</td>\n",
       "      <td>Colin Trevorrow</td>\n",
       "      <td>124</td>\n",
       "      <td>Action</td>\n",
       "      <td>Legendary</td>\n",
       "      <td>2015-06-09</td>\n",
       "      <td>5562</td>\n",
       "      <td>6.5</td>\n",
       "      <td>2015</td>\n",
       "      <td>1.379999e+08</td>\n",
       "      <td>1.392446e+09</td>\n",
       "      <td>1363528810</td>\n",
       "    </tr>\n",
       "  </tbody>\n",
       "</table>\n",
       "</div>"
      ],
      "text/plain": [
       "       id  popularity     budget     revenue  original_title         director  \\\n",
       "0  135397   32.985763  150000000  1513528810  Jurassic World  Colin Trevorrow   \n",
       "1  135397   32.985763  150000000  1513528810  Jurassic World  Colin Trevorrow   \n",
       "2  135397   32.985763  150000000  1513528810  Jurassic World  Colin Trevorrow   \n",
       "3  135397   32.985763  150000000  1513528810  Jurassic World  Colin Trevorrow   \n",
       "4  135397   32.985763  150000000  1513528810  Jurassic World  Colin Trevorrow   \n",
       "\n",
       "   runtime  genres production_companies release_date  vote_count  \\\n",
       "0      124  Action            Universal   2015-06-09        5562   \n",
       "1      124  Action              Studios   2015-06-09        5562   \n",
       "2      124  Action               Amblin   2015-06-09        5562   \n",
       "3      124  Action        Entertainment   2015-06-09        5562   \n",
       "4      124  Action            Legendary   2015-06-09        5562   \n",
       "\n",
       "   vote_average  release_year    budget_adj   revenue_adj      profit  \n",
       "0           6.5          2015  1.379999e+08  1.392446e+09  1363528810  \n",
       "1           6.5          2015  1.379999e+08  1.392446e+09  1363528810  \n",
       "2           6.5          2015  1.379999e+08  1.392446e+09  1363528810  \n",
       "3           6.5          2015  1.379999e+08  1.392446e+09  1363528810  \n",
       "4           6.5          2015  1.379999e+08  1.392446e+09  1363528810  "
      ]
     },
     "execution_count": 481,
     "metadata": {},
     "output_type": "execute_result"
    }
   ],
   "source": [
    "#Create a column named 'profit' to find the net profit of various movies\n",
    "df['profit'] = df['revenue'] - df['budget']\n",
    "df.head()"
   ]
  },
  {
   "cell_type": "code",
   "execution_count": 482,
   "id": "5e102cfb",
   "metadata": {},
   "outputs": [],
   "source": [
    "# Convert profit to hundreds of million\n",
    "df['profit'] = df.profit/100000000"
   ]
  },
  {
   "cell_type": "code",
   "execution_count": 483,
   "id": "64ee76aa",
   "metadata": {
    "scrolled": true
   },
   "outputs": [
    {
     "data": {
      "text/plain": [
       "count    153756.000000\n",
       "mean          0.409374\n",
       "std           1.291091\n",
       "min          -4.139124\n",
       "25%          -0.002000\n",
       "50%           0.000000\n",
       "75%           0.292515\n",
       "max          25.445058\n",
       "Name: profit, dtype: float64"
      ]
     },
     "execution_count": 483,
     "metadata": {},
     "output_type": "execute_result"
    }
   ],
   "source": [
    "# Check for profit details\n",
    "df['profit'].describe()"
   ]
  },
  {
   "cell_type": "code",
   "execution_count": 484,
   "id": "19391591",
   "metadata": {
    "scrolled": true
   },
   "outputs": [
    {
     "data": {
      "image/png": "[encoded data removed]",
      "text/plain": [
       "<Figure size 432x288 with 1 Axes>"
      ]
     },
     "metadata": {
      "needs_background": "light"
     },
     "output_type": "display_data"
    }
   ],
   "source": [
    "df['profit'].plot.box();"
   ]
  },
  {
   "cell_type": "markdown",
   "id": "715bd55a",
   "metadata": {},
   "source": [
    ">There are few upper outliers in profit column. "
   ]
  },
  {
   "cell_type": "code",
   "execution_count": 485,
   "id": "c26ca02c",
   "metadata": {
    "scrolled": true
   },
   "outputs": [
    {
     "data": {
      "image/png": "[encoded data removed]",
      "text/plain": [
       "<Figure size 720x432 with 2 Axes>"
      ]
     },
     "metadata": {},
     "output_type": "display_data"
    }
   ],
   "source": [
    "# Ploting correlation Matrix table to view correlations between various dataset\n",
    "corrMatrix = df.corr()\n",
    "sns.set(rc={'figure.figsize':(10,6)})\n",
    "sns.heatmap(corrMatrix, annot=True)\n",
    "plt.show()"
   ]
  },
  {
   "cell_type": "markdown",
   "id": "8bcb3f87",
   "metadata": {},
   "source": [
    ">There is a positive correlation among appreciable datasets. A few, however are negatively correlated."
   ]
  },
  {
   "cell_type": "markdown",
   "id": "a34c50c6",
   "metadata": {},
   "source": [
    "<a id='eda'></a>\n",
    "## Exploratory Data Analysis\n",
    "\n",
    ">We are going to investigate our dataset base on analysis questions listed earlier. Statistical and Visual creation will be used to analyze the dataset. \n",
    "\n",
    "### Research Question 1 Which of the movies are the most popular?"
   ]
  },
  {
   "cell_type": "code",
   "execution_count": 486,
   "id": "64a01e49",
   "metadata": {
    "scrolled": true
   },
   "outputs": [
    {
     "data": {
      "text/plain": [
       "Text(0, 0.5, 'Number of Movies')"
      ]
     },
     "execution_count": 486,
     "metadata": {},
     "output_type": "execute_result"
    },
    {
     "data": {
      "image/png": "[encoded data removed]",
      "text/plain": [
       "<Figure size 576x576 with 1 Axes>"
      ]
     },
     "metadata": {},
     "output_type": "display_data"
    }
   ],
   "source": [
    "# Distribution of movies in terms of popularity\n",
    "df.popularity.hist(figsize =(8,8))\n",
    "plt.title('Distribution of Movies Popularity', fontsize =20);\n",
    "plt.xlabel('Popularity of Movies')\n",
    "plt.ylabel('Number of Movies')"
   ]
  },
  {
   "cell_type": "markdown",
   "id": "5a85ec9d",
   "metadata": {},
   "source": [
    ">The distribution is right-skewed. This indicates that there are more movies that are not popular than popular ones.\n",
    "\n",
    ">Now, let us find out about the movies that are profitable."
   ]
  },
  {
   "cell_type": "code",
   "execution_count": 487,
   "id": "5f009a34",
   "metadata": {},
   "outputs": [],
   "source": [
    "# Finding profitable and Unprofitable movies\n",
    "profitable = df.query('profit >= 0.292515')\n",
    "Unprofitable = df.query('profit < 0.292515')"
   ]
  },
  {
   "cell_type": "code",
   "execution_count": 488,
   "id": "5f7c2093",
   "metadata": {
    "scrolled": true
   },
   "outputs": [
    {
     "data": {
      "image/png": "[encoded data removed]",
      "text/plain": [
       "<Figure size 720x432 with 1 Axes>"
      ]
     },
     "metadata": {},
     "output_type": "display_data"
    }
   ],
   "source": [
    "#Finding the proportion of profitable movies by percentage\n",
    "data = [38446, 115310]\n",
    "labels = ['Profitable', 'Unprofitable']\n",
    "\n",
    "#define Seaborn color palette to use\n",
    "colors = sns.color_palette('pastel')[0:5]\n",
    "\n",
    "#create pie chart\n",
    "plt.pie(data, labels = labels, colors = colors, autopct='%.0f%%');"
   ]
  },
  {
   "cell_type": "markdown",
   "id": "ccd7ab49",
   "metadata": {},
   "source": [
    "> The above chart shows that only one-fourth (25%) of the movies are profitable."
   ]
  },
  {
   "cell_type": "code",
   "execution_count": 489,
   "id": "db731025",
   "metadata": {
    "scrolled": true
   },
   "outputs": [
    {
     "name": "stdout",
     "output_type": "stream",
     "text": [
      "   popularity                         original_title     profit\n",
      "0   32.985763                         Jurassic World  13.635288\n",
      "1   28.419936                     Mad Max: Fury Road   2.284364\n",
      "2   24.949134                           Interstellar   4.567525\n",
      "3   14.311205                Guardians of the Galaxy   6.033124\n",
      "4   13.112507                              Insurgent   1.852382\n",
      "5   12.971027    Captain America: The Winter Soldier   5.447666\n",
      "6   12.037933                              Star Wars   7.643980\n",
      "7   11.422751                              John Wick   0.587399\n",
      "8   11.173104           Star Wars: The Force Awakens  18.681782\n",
      "9   10.739009  The Hunger Games: Mockingjay - Part 1   6.271002\n"
     ]
    }
   ],
   "source": [
    "#Grouping Movies in terms of popularity and profit\n",
    "movies_group = df.groupby(['popularity', 'original_title'], as_index= False)\n",
    "movies_popularity = movies_group['profit'].mean().sort_values('popularity',ignore_index=True,axis=0, ascending=False)\n",
    "\n",
    "# Finding the top ten (10) movies\n",
    "top_movies = movies_popularity.head(10)\n",
    "print(top_movies)"
   ]
  },
  {
   "cell_type": "markdown",
   "id": "ae485749",
   "metadata": {},
   "source": [
    ">Jurassic World appeared to be the most popular."
   ]
  },
  {
   "cell_type": "code",
   "execution_count": 490,
   "id": "1084759d",
   "metadata": {
    "scrolled": true
   },
   "outputs": [
    {
     "data": {
      "image/png": "[encoded data removed]",
      "text/plain": [
       "<Figure size 720x432 with 1 Axes>"
      ]
     },
     "metadata": {},
     "output_type": "display_data"
    }
   ],
   "source": [
    "# Plot of Movies Popularity and Profit\n",
    "ind = np.arange(len(top_movies['original_title']))  # the x locations for the groups\n",
    "width = 0.35       # the width of the bars\n",
    "top_movies.plot(kind ='bar', title ='Movies Popularity by Profit', alpha =.7);\n",
    "\n",
    "# title and labels\n",
    "plt.ylabel('Value')\n",
    "plt.xlabel('Movies')\n",
    "locations = ind + width / 2  # xtick locations\n",
    "labels = top_movies['original_title']  # xtick labels\n",
    "plt.xticks(locations, labels);"
   ]
  },
  {
   "cell_type": "code",
   "execution_count": 491,
   "id": "eb1fcde6",
   "metadata": {},
   "outputs": [
    {
     "data": {
      "text/plain": [
       "count    153756.000000\n",
       "mean          0.409374\n",
       "std           1.291091\n",
       "min          -4.139124\n",
       "25%          -0.002000\n",
       "50%           0.000000\n",
       "75%           0.292515\n",
       "max          25.445058\n",
       "Name: profit, dtype: float64"
      ]
     },
     "execution_count": 491,
     "metadata": {},
     "output_type": "execute_result"
    }
   ],
   "source": [
    "df['profit'].describe() # Checking for the highest profit"
   ]
  },
  {
   "cell_type": "markdown",
   "id": "b8f480a4",
   "metadata": {},
   "source": [
    "> Although, there is a positive correlation between popularity and profit of movies. However, the chart above shows that the most popular movies may not necessarily be the most profitable. Other factors may contribute."
   ]
  },
  {
   "cell_type": "code",
   "execution_count": 492,
   "id": "71785af9",
   "metadata": {
    "scrolled": true
   },
   "outputs": [
    {
     "name": "stdout",
     "output_type": "stream",
     "text": [
      "   popularity                         original_title  vote_count\n",
      "0   32.985763                         Jurassic World       5.562\n",
      "1   28.419936                     Mad Max: Fury Road       6.185\n",
      "2   24.949134                           Interstellar       6.498\n",
      "3   14.311205                Guardians of the Galaxy       5.612\n",
      "4   13.112507                              Insurgent       2.480\n",
      "5   12.971027    Captain America: The Winter Soldier       3.848\n",
      "6   12.037933                              Star Wars       4.428\n",
      "7   11.422751                              John Wick       2.712\n",
      "8   11.173104           Star Wars: The Force Awakens       5.292\n",
      "9   10.739009  The Hunger Games: Mockingjay - Part 1       3.590\n"
     ]
    }
   ],
   "source": [
    "# Grouping Movies in terms of popularity and vote count\n",
    "df['vote_count'] = df.vote_count/1000 # Convert vote counts to thousand.\n",
    "count_group = df.groupby(['popularity', 'original_title'], as_index= False)\n",
    "count_popularity = count_group['vote_count'].mean().sort_values('popularity',ignore_index=True,axis=0, ascending=False)\n",
    "\n",
    "# Finding the top ten (10) movies\n",
    "count_movies = count_popularity.head(10)\n",
    "print(count_movies)"
   ]
  },
  {
   "cell_type": "code",
   "execution_count": 493,
   "id": "af0128b3",
   "metadata": {
    "scrolled": false
   },
   "outputs": [
    {
     "data": {
      "image/png": "[encoded data removed]",
      "text/plain": [
       "<Figure size 720x432 with 1 Axes>"
      ]
     },
     "metadata": {},
     "output_type": "display_data"
    }
   ],
   "source": [
    "# Plot of Movies Popularity and Vote count\n",
    "ind = np.arange(len(count_movies['original_title']))  # the x locations for the groups\n",
    "width = 0.35       # the width of the bars\n",
    "count_movies.plot(kind ='bar', title ='Movies Popularity by Vote Count', alpha =.7);\n",
    "\n",
    "# title and labels\n",
    "plt.ylabel('Value')\n",
    "plt.xlabel('Movies')\n",
    "locations = ind + width / 2  # xtick locations\n",
    "labels = count_movies['original_title']  # xtick labels\n",
    "plt.xticks(locations, labels);"
   ]
  },
  {
   "cell_type": "code",
   "execution_count": 494,
   "id": "93264cbe",
   "metadata": {},
   "outputs": [
    {
     "data": {
      "text/plain": [
       "count    153756.000000\n",
       "mean          0.356147\n",
       "std           0.757570\n",
       "min           0.010000\n",
       "25%           0.024000\n",
       "50%           0.075000\n",
       "75%           0.306000\n",
       "max           9.767000\n",
       "Name: vote_count, dtype: float64"
      ]
     },
     "execution_count": 494,
     "metadata": {},
     "output_type": "execute_result"
    }
   ],
   "source": [
    "df['vote_count'].describe() # Checking for the highest vote count"
   ]
  },
  {
   "cell_type": "markdown",
   "id": "38005fa8",
   "metadata": {},
   "source": [
    ">There is also a positive correlation between popularity of movies and vote count. The chart indicates that the most popular movies may not have the highest vote count. High vote count alone may not translates to popularity as the movie with highest vote count is not the most popular (as seen in vote count description). Other factors may also contibute. "
   ]
  },
  {
   "cell_type": "code",
   "execution_count": 495,
   "id": "d3bae6dd",
   "metadata": {
    "scrolled": true
   },
   "outputs": [
    {
     "name": "stdout",
     "output_type": "stream",
     "text": [
      "   popularity                         original_title  budget\n",
      "0   32.985763                         Jurassic World    15.0\n",
      "1   28.419936                     Mad Max: Fury Road    15.0\n",
      "2   24.949134                           Interstellar    16.5\n",
      "3   14.311205                Guardians of the Galaxy    17.0\n",
      "4   13.112507                              Insurgent    11.0\n",
      "5   12.971027    Captain America: The Winter Soldier    17.0\n",
      "6   12.037933                              Star Wars     1.1\n",
      "7   11.422751                              John Wick     2.0\n",
      "8   11.173104           Star Wars: The Force Awakens    20.0\n",
      "9   10.739009  The Hunger Games: Mockingjay - Part 1    12.5\n"
     ]
    }
   ],
   "source": [
    "# Grouping Movies in terms of popularity and budget\n",
    "df['budget'] = df.budget/10000000 # Convert budget to thousands of million.\n",
    "budget_group = df.groupby(['popularity', 'original_title'], as_index= False)\n",
    "budget_popularity = budget_group['budget'].mean().sort_values('popularity',ignore_index=True,axis=0, ascending=False)\n",
    "\n",
    "# Finding the top ten (10) movies\n",
    "budget_movies = budget_popularity.head(10)\n",
    "print(budget_movies)"
   ]
  },
  {
   "cell_type": "code",
   "execution_count": 496,
   "id": "ef24b95f",
   "metadata": {
    "scrolled": true
   },
   "outputs": [
    {
     "data": {
      "image/png": "[encoded data removed]",
      "text/plain": [
       "<Figure size 720x432 with 1 Axes>"
      ]
     },
     "metadata": {},
     "output_type": "display_data"
    }
   ],
   "source": [
    "# Plot of Movies Popularity and budget\n",
    "ind = np.arange(len(budget_movies['original_title']))  # the x locations for the groups\n",
    "width = 0.35       # the width of the bars\n",
    "budget_movies.plot(kind ='bar', title ='Movies Popularity by budget', alpha =.7);\n",
    "\n",
    "# title and labels\n",
    "plt.ylabel('Value')\n",
    "plt.xlabel('Movies')\n",
    "locations = ind + width / 2  # xtick locations\n",
    "labels = count_movies['original_title']  # xtick labels\n",
    "plt.xticks(locations, labels);"
   ]
  },
  {
   "cell_type": "markdown",
   "id": "26e74cb8",
   "metadata": {},
   "source": [
    "> The chart indicates that budget alone is not the determinant of movies popularity.'Star Wars: The Force Awakens' movie has the highest budget but it is not the most popular."
   ]
  },
  {
   "cell_type": "markdown",
   "id": "6df7402f",
   "metadata": {},
   "source": [
    "# Question related to Genres of movies"
   ]
  },
  {
   "cell_type": "markdown",
   "id": "6d9673a4",
   "metadata": {},
   "source": [
    "## What are the most popular genres?"
   ]
  },
  {
   "cell_type": "code",
   "execution_count": 497,
   "id": "597131ff",
   "metadata": {},
   "outputs": [
    {
     "name": "stdout",
     "output_type": "stream",
     "text": [
      "   popularity     genres     profit\n",
      "0   32.985763   Thriller  13.635288\n",
      "1   32.985763    Science  13.635288\n",
      "2   32.985763    Fiction  13.635288\n",
      "3   32.985763  Adventure  13.635288\n",
      "4   32.985763     Action  13.635288\n",
      "5   11.173104    Fantasy  18.681782\n",
      "6    9.335014      Crime  13.162494\n",
      "7    9.110700    Western   3.979505\n",
      "8    9.110700      Drama   3.979505\n",
      "9    7.404165     Family  10.827310\n"
     ]
    }
   ],
   "source": [
    "#Grouping movies' genres in terms of popularity and profit\n",
    "df =df.drop_duplicates(subset ='genres', keep='first', inplace=False) # Drop genres that are duplicated and pick the most popular one.\n",
    "genres_group = df.groupby(['popularity', 'genres'], as_index= False)\n",
    "genres_popularity = genres_group['profit'].mean().sort_values('popularity',ignore_index=True,axis=0, ascending=False)\n",
    "\n",
    "# Finding the top ten (10) genres\n",
    "top_genres = genres_popularity.head(10)\n",
    "print(top_genres)"
   ]
  },
  {
   "cell_type": "code",
   "execution_count": 498,
   "id": "3511afbf",
   "metadata": {},
   "outputs": [
    {
     "data": {
      "image/png": "[encoded data removed]",
      "text/plain": [
       "<Figure size 720x432 with 1 Axes>"
      ]
     },
     "metadata": {},
     "output_type": "display_data"
    }
   ],
   "source": [
    "# Plot of Movies' genres Popularity and Profit\n",
    "ind = np.arange(len(top_genres['genres']))  # the x locations for the groups\n",
    "width = 0.35       # the width of the bars\n",
    "top_genres.plot(kind ='bar', title = \"Movies' Popularity by Profit\", alpha =.7);\n",
    "\n",
    "# title and labels\n",
    "plt.ylabel('Value')\n",
    "plt.xlabel('Genres')\n",
    "locations = ind + width / 2  # xtick locations\n",
    "labels = top_genres['genres']  # xtick labels\n",
    "plt.xticks(locations, labels);"
   ]
  },
  {
   "cell_type": "markdown",
   "id": "aba002f3",
   "metadata": {},
   "source": [
    "> It can be infered from the chart that the most popular genres may not necessarily be the most profitable. From the top ten popular genres however, 'Crime movies' has  the least profit. This indicates that other factors may be responsible.\n",
    "\n",
    "> Now, let us analyse genres with runtime."
   ]
  },
  {
   "cell_type": "code",
   "execution_count": 499,
   "id": "d53bcb42",
   "metadata": {},
   "outputs": [
    {
     "data": {
      "image/png": "[encoded data removed]",
      "text/plain": [
       "<Figure size 720x432 with 1 Axes>"
      ]
     },
     "metadata": {},
     "output_type": "display_data"
    }
   ],
   "source": [
    "# Comparison of Movies' genres with Average runtime\n",
    "genre_runtime = df.groupby('genres').runtime.mean().sort_values()\n",
    "genre_runtime.plot.bar(title = 'Runtime of movies by various genres',xlabel='Genres',ylabel='runtime ((minutes)');"
   ]
  },
  {
   "cell_type": "markdown",
   "id": "cf3abdca",
   "metadata": {},
   "source": [
    ">Genres with least profit appears to have the highest runtime. But 'Action' movie with highest profit is not the least in terms of runtime. This indicates a weak correlation.\n",
    "\n",
    "> This can further be seen in the next chart."
   ]
  },
  {
   "cell_type": "code",
   "execution_count": 500,
   "id": "021a9a6c",
   "metadata": {},
   "outputs": [
    {
     "name": "stdout",
     "output_type": "stream",
     "text": [
      "   runtime                         original_title     profit\n",
      "0      167                      The Hateful Eight   1.117601\n",
      "1      156                           The Revenant   3.979505\n",
      "2      139                      L'ArmÃ©e du crime  -0.100000\n",
      "3      137                              Furious 7  13.162494\n",
      "4      136           Star Wars: The Force Awakens  18.681782\n",
      "5      136  The Hunger Games: Mockingjay - Part 2   4.905234\n",
      "6      128                                    Amy   0.084131\n",
      "7      128                              Spotlight   0.683465\n",
      "8      124                         Jurassic World  13.635288\n",
      "9      115                        Pitch Perfect 2   2.585062\n"
     ]
    }
   ],
   "source": [
    "#Grouping Movies in terms of runtime and profit\n",
    "movies_runtime = df.groupby(['runtime', 'original_title'], as_index= False)\n",
    "movies_runtimeaverage = movies_runtime['profit'].mean().sort_values('runtime',ignore_index=True,axis=0, ascending=False)\n",
    "\n",
    "# Finding the top ten (10) movies\n",
    "top_moviesruntime = movies_runtimeaverage.head(10)\n",
    "print(top_moviesruntime)"
   ]
  },
  {
   "cell_type": "code",
   "execution_count": 501,
   "id": "13a55ede",
   "metadata": {},
   "outputs": [
    {
     "data": {
      "image/png": "[encoded data removed]",
      "text/plain": [
       "<Figure size 720x432 with 1 Axes>"
      ]
     },
     "metadata": {},
     "output_type": "display_data"
    }
   ],
   "source": [
    "# Plot of Movies' runtime and Profit\n",
    "ind = np.arange(len(top_moviesruntime['original_title']))  # the x locations for the groups\n",
    "width = 0.35       # the width of the bars\n",
    "top_moviesruntime.plot(kind ='bar', title = \"Movies' Runtime by Profit\", alpha =.7);\n",
    "\n",
    "# title and labels\n",
    "plt.ylabel('Value')\n",
    "plt.xlabel('Movies')\n",
    "locations = ind + width / 2  # xtick locations\n",
    "labels = top_moviesruntime['original_title']  # xtick labels\n",
    "plt.xticks(locations, labels);"
   ]
  },
  {
   "cell_type": "markdown",
   "id": "53f832a5",
   "metadata": {},
   "source": [
    "> The genre with the highest runtime has low profit but it is not the least. This further explains the partial correlation."
   ]
  },
  {
   "cell_type": "markdown",
   "id": "65b17446",
   "metadata": {},
   "source": [
    "## Who is the most popular Director?"
   ]
  },
  {
   "cell_type": "code",
   "execution_count": 502,
   "id": "cc1c3a67",
   "metadata": {},
   "outputs": [
    {
     "data": {
      "text/plain": [
       "'Colin Trevorrow'"
      ]
     },
     "execution_count": 502,
     "metadata": {},
     "output_type": "execute_result"
    }
   ],
   "source": [
    "# Finding the most popular Director and his/her movies\n",
    "popular_director = df.groupby('director')['popularity'].mean().idxmax()\n",
    "popular_director"
   ]
  },
  {
   "cell_type": "code",
   "execution_count": 503,
   "id": "ddeaa8aa",
   "metadata": {
    "scrolled": true
   },
   "outputs": [
    {
     "data": {
      "text/html": [
       "<style  type=\"text/css\" >\n",
       "</style><table id=\"T_19f15764_1803_11ed_b00e_5c3a45d46b30\" ><thead>    <tr>        <th class=\"col_heading level0 col0\" >original_title</th>        <th class=\"col_heading level0 col1\" >popularity</th>        <th class=\"col_heading level0 col2\" >director</th>        <th class=\"col_heading level0 col3\" >runtime</th>        <th class=\"col_heading level0 col4\" >release_date</th>        <th class=\"col_heading level0 col5\" >profit</th>    </tr></thead><tbody>\n",
       "                <tr>\n",
       "                                <td id=\"T_19f15764_1803_11ed_b00e_5c3a45d46b30row0_col0\" class=\"data row0 col0\" >Jurassic World</td>\n",
       "                        <td id=\"T_19f15764_1803_11ed_b00e_5c3a45d46b30row0_col1\" class=\"data row0 col1\" >32.985763</td>\n",
       "                        <td id=\"T_19f15764_1803_11ed_b00e_5c3a45d46b30row0_col2\" class=\"data row0 col2\" >Colin Trevorrow</td>\n",
       "                        <td id=\"T_19f15764_1803_11ed_b00e_5c3a45d46b30row0_col3\" class=\"data row0 col3\" >124</td>\n",
       "                        <td id=\"T_19f15764_1803_11ed_b00e_5c3a45d46b30row0_col4\" class=\"data row0 col4\" >2015-06-09 00:00:00</td>\n",
       "                        <td id=\"T_19f15764_1803_11ed_b00e_5c3a45d46b30row0_col5\" class=\"data row0 col5\" >13.635288</td>\n",
       "            </tr>\n",
       "    </tbody></table>"
      ],
      "text/plain": [
       "<pandas.io.formats.style.Styler at 0x22f8b4e26d8>"
      ]
     },
     "execution_count": 503,
     "metadata": {},
     "output_type": "execute_result"
    }
   ],
   "source": [
    "# Finding the profitable movies directed by Colin Trevorrow\n",
    "df =df.drop_duplicates(subset ='director', keep='first', inplace=False) # Drop genres that are duplicated and pick the most popular one.\n",
    "popular_director_movies = df[df['director'] == 'Colin Trevorrow']\n",
    "popular_director_movies[['original_title', 'popularity', 'director', 'runtime', 'release_date', 'profit']].style.hide_index()"
   ]
  },
  {
   "cell_type": "markdown",
   "id": "cc89dd00",
   "metadata": {},
   "source": [
    "> \"Colin Trevorrow' is the most popular Director and the most profitable movie he directed is \"Jurassic World\". Jarassic World is also the most popular movie. This indicates that the popularity of 'Director' is strongly correlated to the popularity of his/her movies."
   ]
  },
  {
   "cell_type": "markdown",
   "id": "a523d886",
   "metadata": {},
   "source": [
    "<a id='conclusions'></a>\n",
    "## Conclusions\n",
    "\n",
    ">About 10,000 dataset of TMDB has been analyzed and the following are the results:\n",
    "\n",
    ">1.There are more unpopular movies than the popular ones. \n",
    "\n",
    ">2.About 75% of the movies are not profitable (Successful).\n",
    "\n",
    ">3.'Jussaic World' movie is the most popular movie but not the highest profitable movie. This indicates that the popularity of movies is not only affected by their profit. Other factors such as vote count and budget could also contribute.\n",
    "\n",
    ">4.Analysis of top ten genres indicates that 'Action' movies are the most popular but not the highest profitable movie. Other factors such as runtime also contribute to the popularity of genres.\n",
    "\n",
    ">5.Long runtime movies are not as popular and profitable as short runtime movies.\n",
    "\n",
    ">6.'Colin Trevorrow' is the most popular movie director and one of his movies is the most popular one (Jurassic World). This indicates the the popularity of directors is affected by the popularity of his/her movies.\n",
    "\n",
    "> Although, we could not analyze factors responsible for unprofitability of most movies with the available dataset, further analysis can be carried out to investigate the production companies and factors that could affect their popularity and profitability.\n",
    "\n",
    "## Sources \n",
    "\n",
    ">1. Udacity Course Videos\n",
    ">2.\thttps://www.geeksforgeeks.org/plotting-multiple-bar-charts-using-matplotlib-in-python/\n",
    "3.\thttps://levelup.gitconnected.com/how-to-slice-a-dataframe-in-pandas-884bd8b298a6\n",
    "4.\thttps://www.geeksforgeeks.org/how-to-create-pie-chart-from-pandas-dataframe/\n",
    "5.\thttps://jovian.ai/ashutoshnemani3/tmdb-movie-dataset#C23\n",
    "6.\thttps://stackoverflow.com/questions/39128856/python-drop-row-if-two-columns-are-nan\n",
    "7.\thttps://stackoverflow.com/questions/43746038/pandas-rows-with-missing-values-in-multiple-columns\n",
    "8.  https://www.statology.org/how-to-read-a-correlation-matrix/"
   ]
  }
 ],
 "metadata": {
  "kernelspec": {
   "display_name": "Python [conda env:test1]",
   "language": "python",
   "name": "conda-env-test1-py"
  },
  "language_info": {
   "codemirror_mode": {
    "name": "ipython",
    "version": 3
   },
   "file_extension": ".py",
   "mimetype": "text/x-python",
   "name": "python",
   "nbconvert_exporter": "python",
   "pygments_lexer": "ipython3",
   "version": "3.6.13"
  }
 },
 "nbformat": 4,
 "nbformat_minor": 5
}
